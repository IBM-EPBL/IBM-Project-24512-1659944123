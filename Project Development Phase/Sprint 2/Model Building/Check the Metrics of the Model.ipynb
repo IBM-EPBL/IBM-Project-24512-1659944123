{
 "cells": [
  {
   "cell_type": "markdown",
   "id": "9c3c2ab8",
   "metadata": {},
   "source": [
    "# Import Libraries"
   ]
  },
  {
   "cell_type": "code",
   "execution_count": 24,
   "id": "a3e662d5",
   "metadata": {},
   "outputs": [],
   "source": [
    "import import_ipynb\n",
    "import pandas as pd\n",
    "import numpy as np\n",
    "import matplotlib.pyplot as plt\n",
    "from sklearn.preprocessing import LabelEncoder\n",
    "from sklearn.model_selection import train_test_split, GridSearchCV\n",
    "from sklearn.metrics import mean_absolute_error, mean_squared_error, r2_score\n",
    "import pickle\n",
    "import wandb\n"
   ]
  },
  {
   "cell_type": "code",
   "execution_count": 25,
   "id": "32c8a84b",
   "metadata": {},
   "outputs": [],
   "source": [
    "from sklearn.ensemble import BaggingRegressor, RandomForestRegressor, HistGradientBoostingRegressor, ExtraTreesRegressor\n",
    "from xgboost.sklearn import XGBRegressor\n",
    "from lightgbm import LGBMRegressor"
   ]
  },
  {
   "cell_type": "markdown",
   "id": "e39c4e92",
   "metadata": {},
   "source": [
    "# Import Preprocessed Data"
   ]
  },
  {
   "cell_type": "code",
   "execution_count": 26,
   "id": "34bf2f21",
   "metadata": {},
   "outputs": [],
   "source": [
    "df=pd.read_csv(\"C:\\\\Users\\\\nivet\\\\OneDrive\\\\Documents\\\\Dataset.csv\", header=0, sep=',', encoding='Latin1',)"
   ]
  },
  {
   "cell_type": "markdown",
   "id": "358e3553",
   "metadata": {},
   "source": [
    "#  Label Encoding"
   ]
  },
  {
   "cell_type": "code",
   "execution_count": 27,
   "id": "6eee104d",
   "metadata": {},
   "outputs": [
    {
     "data": {
      "text/html": [
       "<div>\n",
       "<style scoped>\n",
       "    .dataframe tbody tr th:only-of-type {\n",
       "        vertical-align: middle;\n",
       "    }\n",
       "\n",
       "    .dataframe tbody tr th {\n",
       "        vertical-align: top;\n",
       "    }\n",
       "\n",
       "    .dataframe thead th {\n",
       "        text-align: right;\n",
       "    }\n",
       "</style>\n",
       "<table border=\"1\" class=\"dataframe\">\n",
       "  <thead>\n",
       "    <tr style=\"text-align: right;\">\n",
       "      <th></th>\n",
       "      <th>dateCrawled</th>\n",
       "      <th>name</th>\n",
       "      <th>seller</th>\n",
       "      <th>offerType</th>\n",
       "      <th>price</th>\n",
       "      <th>abtest</th>\n",
       "      <th>vehicleType</th>\n",
       "      <th>yearOfRegistration</th>\n",
       "      <th>gearbox</th>\n",
       "      <th>powerPS</th>\n",
       "      <th>model</th>\n",
       "      <th>kilometer</th>\n",
       "      <th>monthOfRegistration</th>\n",
       "      <th>fuelType</th>\n",
       "      <th>brand</th>\n",
       "      <th>notRepairedDamage</th>\n",
       "      <th>dateCreated</th>\n",
       "      <th>nrOfPictures</th>\n",
       "      <th>postalCode</th>\n",
       "      <th>lastSeen</th>\n",
       "    </tr>\n",
       "  </thead>\n",
       "  <tbody>\n",
       "    <tr>\n",
       "      <th>0</th>\n",
       "      <td>24-03-2016 11:52</td>\n",
       "      <td>Golf_3_1.6</td>\n",
       "      <td>privat</td>\n",
       "      <td>Angebot</td>\n",
       "      <td>480</td>\n",
       "      <td>test</td>\n",
       "      <td>NaN</td>\n",
       "      <td>1993</td>\n",
       "      <td>manuell</td>\n",
       "      <td>0</td>\n",
       "      <td>golf</td>\n",
       "      <td>150000</td>\n",
       "      <td>0</td>\n",
       "      <td>benzin</td>\n",
       "      <td>volkswagen</td>\n",
       "      <td>NaN</td>\n",
       "      <td>24-03-2016 00:00</td>\n",
       "      <td>0.0</td>\n",
       "      <td>70435.0</td>\n",
       "      <td>07-04-2016 03:16</td>\n",
       "    </tr>\n",
       "    <tr>\n",
       "      <th>1</th>\n",
       "      <td>24-03-2016 10:58</td>\n",
       "      <td>A5_Sportback_2.7_Tdi</td>\n",
       "      <td>privat</td>\n",
       "      <td>Angebot</td>\n",
       "      <td>18300</td>\n",
       "      <td>test</td>\n",
       "      <td>coupe</td>\n",
       "      <td>2011</td>\n",
       "      <td>manuell</td>\n",
       "      <td>190</td>\n",
       "      <td>NaN</td>\n",
       "      <td>125000</td>\n",
       "      <td>5</td>\n",
       "      <td>diesel</td>\n",
       "      <td>audi</td>\n",
       "      <td>ja</td>\n",
       "      <td>24-03-2016 00:00</td>\n",
       "      <td>0.0</td>\n",
       "      <td>66954.0</td>\n",
       "      <td>07-04-2016 01:46</td>\n",
       "    </tr>\n",
       "    <tr>\n",
       "      <th>2</th>\n",
       "      <td>14-03-2016 12:52</td>\n",
       "      <td>Jeep_Grand_Cherokee_\"Overland\"</td>\n",
       "      <td>privat</td>\n",
       "      <td>Angebot</td>\n",
       "      <td>9800</td>\n",
       "      <td>test</td>\n",
       "      <td>suv</td>\n",
       "      <td>2004</td>\n",
       "      <td>automatik</td>\n",
       "      <td>163</td>\n",
       "      <td>grand</td>\n",
       "      <td>125000</td>\n",
       "      <td>8</td>\n",
       "      <td>diesel</td>\n",
       "      <td>jeep</td>\n",
       "      <td>NaN</td>\n",
       "      <td>14-03-2016 00:00</td>\n",
       "      <td>0.0</td>\n",
       "      <td>90480.0</td>\n",
       "      <td>05-04-2016 12:47</td>\n",
       "    </tr>\n",
       "    <tr>\n",
       "      <th>3</th>\n",
       "      <td>17-03-2016 16:54</td>\n",
       "      <td>GOLF_4_1_4__3T RER</td>\n",
       "      <td>privat</td>\n",
       "      <td>Angebot</td>\n",
       "      <td>1500</td>\n",
       "      <td>test</td>\n",
       "      <td>kleinwagen</td>\n",
       "      <td>2001</td>\n",
       "      <td>manuell</td>\n",
       "      <td>75</td>\n",
       "      <td>golf</td>\n",
       "      <td>150000</td>\n",
       "      <td>6</td>\n",
       "      <td>benzin</td>\n",
       "      <td>volkswagen</td>\n",
       "      <td>nein</td>\n",
       "      <td>17-03-2016 00:00</td>\n",
       "      <td>0.0</td>\n",
       "      <td>91074.0</td>\n",
       "      <td>17-03-2016 17:40</td>\n",
       "    </tr>\n",
       "    <tr>\n",
       "      <th>4</th>\n",
       "      <td>31-03-2016 17:25</td>\n",
       "      <td>Skoda_Fabia_1.4_TDI_PD_Classic</td>\n",
       "      <td>privat</td>\n",
       "      <td>Angebot</td>\n",
       "      <td>3600</td>\n",
       "      <td>test</td>\n",
       "      <td>kleinwagen</td>\n",
       "      <td>2008</td>\n",
       "      <td>manuell</td>\n",
       "      <td>69</td>\n",
       "      <td>fabia</td>\n",
       "      <td>90000</td>\n",
       "      <td>7</td>\n",
       "      <td>diesel</td>\n",
       "      <td>skoda</td>\n",
       "      <td>nein</td>\n",
       "      <td>31-03-2016 00:00</td>\n",
       "      <td>0.0</td>\n",
       "      <td>60437.0</td>\n",
       "      <td>06-04-2016 10:17</td>\n",
       "    </tr>\n",
       "  </tbody>\n",
       "</table>\n",
       "</div>"
      ],
      "text/plain": [
       "        dateCrawled                            name  seller offerType  price  \\\n",
       "0  24-03-2016 11:52                      Golf_3_1.6  privat   Angebot    480   \n",
       "1  24-03-2016 10:58            A5_Sportback_2.7_Tdi  privat   Angebot  18300   \n",
       "2  14-03-2016 12:52  Jeep_Grand_Cherokee_\"Overland\"  privat   Angebot   9800   \n",
       "3  17-03-2016 16:54              GOLF_4_1_4__3T RER  privat   Angebot   1500   \n",
       "4  31-03-2016 17:25  Skoda_Fabia_1.4_TDI_PD_Classic  privat   Angebot   3600   \n",
       "\n",
       "  abtest vehicleType  yearOfRegistration    gearbox  powerPS  model  \\\n",
       "0   test         NaN                1993    manuell        0   golf   \n",
       "1   test       coupe                2011    manuell      190    NaN   \n",
       "2   test         suv                2004  automatik      163  grand   \n",
       "3   test  kleinwagen                2001    manuell       75   golf   \n",
       "4   test  kleinwagen                2008    manuell       69  fabia   \n",
       "\n",
       "   kilometer  monthOfRegistration fuelType       brand notRepairedDamage  \\\n",
       "0     150000                    0   benzin  volkswagen               NaN   \n",
       "1     125000                    5   diesel        audi                ja   \n",
       "2     125000                    8   diesel        jeep               NaN   \n",
       "3     150000                    6   benzin  volkswagen              nein   \n",
       "4      90000                    7   diesel       skoda              nein   \n",
       "\n",
       "        dateCreated  nrOfPictures  postalCode          lastSeen  \n",
       "0  24-03-2016 00:00           0.0     70435.0  07-04-2016 03:16  \n",
       "1  24-03-2016 00:00           0.0     66954.0  07-04-2016 01:46  \n",
       "2  14-03-2016 00:00           0.0     90480.0  05-04-2016 12:47  \n",
       "3  17-03-2016 00:00           0.0     91074.0  17-03-2016 17:40  \n",
       "4  31-03-2016 00:00           0.0     60437.0  06-04-2016 10:17  "
      ]
     },
     "execution_count": 27,
     "metadata": {},
     "output_type": "execute_result"
    }
   ],
   "source": [
    "df.head()"
   ]
  },
  {
   "cell_type": "code",
   "execution_count": 28,
   "id": "e1c75ecc",
   "metadata": {},
   "outputs": [
    {
     "name": "stdout",
     "output_type": "stream",
     "text": [
      "Index(['price', 'yearOfRegistration', 'powerPS', 'kilometer',\n",
      "       'monthOfRegistration', 'gearbox_labels', 'notRepairedDamage_labels',\n",
      "       'model_labels', 'brand_labels', 'fuelType_labels',\n",
      "       'vehicleType_labels'],\n",
      "      dtype='object')\n"
     ]
    }
   ],
   "source": [
    "labels = ['gearbox', 'notRepairedDamage', 'model', 'brand', 'fuelType', 'vehicleType']\n",
    "\n",
    "mapper = {}\n",
    "for i in labels:\n",
    "    mapper[i] = LabelEncoder()\n",
    "    mapper[i].fit(df[i])\n",
    "    tr = mapper[i].transform(df[i])\n",
    "    np.save(str('classes'+i+'.npy'), mapper[i].classes_)\n",
    "    df.loc[:, i+'_labels'] = pd.Series(tr, index=df.index)\n",
    "    \n",
    "labeled = df[['price', 'yearOfRegistration','powerPS','kilometer','monthOfRegistration']\n",
    "                  +[x+\"_labels\" for x in labels]]\n",
    "\n",
    "print(labeled.columns)"
   ]
  },
  {
   "cell_type": "markdown",
   "id": "b3f5a805",
   "metadata": {},
   "source": [
    "# Different Metrics Evaluation"
   ]
  },
  {
   "cell_type": "code",
   "execution_count": 29,
   "id": "e3313f84",
   "metadata": {},
   "outputs": [],
   "source": [
    "def find_scores(Y_actual, Y_pred, X_train):\n",
    "    scores = dict()\n",
    "    mae = mean_absolute_error(Y_actual, Y_pred)\n",
    "    mse = mean_squared_error(Y_actual, Y_pred)\n",
    "    rmse = np.sqrt(mse)\n",
    "    rmsle = np.log(rmse)\n",
    "    r2 = r2_score(Y_actual, Y_pred)\n",
    "    n, k = X_train.shape\n",
    "    adj_r2_score = 1 - ((1-r2)*(n-1)/(n-k-1))\n",
    "    \n",
    "    scores['mae']=mae\n",
    "    scores['mse']=mse\n",
    "    scores['rmse']=rmse\n",
    "    scores['rmsle']=rmsle\n",
    "    scores['r2']=r2\n",
    "    scores['adj_r2_score']=adj_r2_score\n",
    "    \n",
    "    return scores"
   ]
  },
  {
   "cell_type": "markdown",
   "id": "75cae6b8",
   "metadata": {},
   "source": [
    "# Train Test Split"
   ]
  },
  {
   "cell_type": "code",
   "execution_count": 30,
   "id": "6fa013b6",
   "metadata": {},
   "outputs": [],
   "source": [
    "X = labeled.iloc[:,1:].values\n",
    "Y = labeled.iloc[:,0].values.reshape(-1,1)"
   ]
  },
  {
   "cell_type": "code",
   "execution_count": 31,
   "id": "a2f75def",
   "metadata": {},
   "outputs": [],
   "source": [
    "X_train, X_test, Y_train, Y_test = train_test_split(X, Y, test_size=0.4, random_state=42)"
   ]
  },
  {
   "cell_type": "code",
   "execution_count": null,
   "id": "35030fd8",
   "metadata": {},
   "outputs": [],
   "source": []
  },
  {
   "cell_type": "markdown",
   "id": "f4766d77",
   "metadata": {},
   "source": [
    "# Predictive Modeling\n"
   ]
  },
  {
   "cell_type": "markdown",
   "id": "2dcd3a3b",
   "metadata": {},
   "source": [
    "# LGBM Regressor"
   ]
  },
  {
   "cell_type": "code",
   "execution_count": 32,
   "id": "a8d61fb5",
   "metadata": {},
   "outputs": [
    {
     "name": "stderr",
     "output_type": "stream",
     "text": [
      "C:\\Users\\nivet\\anaconda3\\lib\\site-packages\\sklearn\\utils\\validation.py:993: DataConversionWarning: A column-vector y was passed when a 1d array was expected. Please change the shape of y to (n_samples, ), for example using ravel().\n",
      "  y = column_or_1d(y, warn=True)\n"
     ]
    },
    {
     "data": {
      "text/plain": [
       "{'mae': 3904.3003982674213,\n",
       " 'mse': 16522691504.017546,\n",
       " 'rmse': 128540.6219994969,\n",
       " 'rmsle': 11.76400025787029,\n",
       " 'r2': 0.0003170465263528932,\n",
       " 'adj_r2_score': 0.0001067242201793217}"
      ]
     },
     "execution_count": 32,
     "metadata": {},
     "output_type": "execute_result"
    }
   ],
   "source": [
    "model = LGBMRegressor(boosting_type=\"gbdt\",learning_rate=0.07,metric=\"rmse\",n_estimators=300,objective=\"root_mean_squared_error\",random_state=42,reg_sqrt=True)\n",
    "\n",
    "model.fit(X_train, Y_train)\n",
    "\n",
    "Y_pred = model.predict(X_test)\n",
    "\n",
    "find_scores(Y_test, Y_pred, X_train)"
   ]
  },
  {
   "cell_type": "code",
   "execution_count": 33,
   "id": "43ec7752",
   "metadata": {},
   "outputs": [
    {
     "data": {
      "text/plain": [
       "LinearRegression()"
      ]
     },
     "execution_count": 33,
     "metadata": {},
     "output_type": "execute_result"
    }
   ],
   "source": [
    "from sklearn.linear_model import LinearRegression\n",
    "lr = LinearRegression()\n",
    "lr.fit(X_train, Y_train)"
   ]
  },
  {
   "cell_type": "code",
   "execution_count": 34,
   "id": "4daee311",
   "metadata": {},
   "outputs": [
    {
     "data": {
      "text/plain": [
       "DecisionTreeRegressor()"
      ]
     },
     "execution_count": 34,
     "metadata": {},
     "output_type": "execute_result"
    }
   ],
   "source": [
    "from sklearn.tree import DecisionTreeRegressor\n",
    "DT = DecisionTreeRegressor()\n",
    "DT.fit(X_train, Y_train)"
   ]
  },
  {
   "cell_type": "code",
   "execution_count": 35,
   "id": "18ede7d0",
   "metadata": {},
   "outputs": [
    {
     "data": {
      "text/plain": [
       "KNeighborsRegressor()"
      ]
     },
     "execution_count": 35,
     "metadata": {},
     "output_type": "execute_result"
    }
   ],
   "source": [
    "# KNN\n",
    "from sklearn.neighbors import KNeighborsRegressor\n",
    "knn = KNeighborsRegressor()\n",
    "knn.fit(X_train, Y_train)"
   ]
  },
  {
   "cell_type": "code",
   "execution_count": 36,
   "id": "2f61a409",
   "metadata": {},
   "outputs": [
    {
     "name": "stderr",
     "output_type": "stream",
     "text": [
      "C:\\Users\\nivet\\AppData\\Local\\Temp\\ipykernel_2896\\403919161.py:3: DataConversionWarning: A column-vector y was passed when a 1d array was expected. Please change the shape of y to (n_samples,), for example using ravel().\n",
      "  RF.fit(X_train, Y_train)\n"
     ]
    },
    {
     "data": {
      "text/plain": [
       "RandomForestRegressor()"
      ]
     },
     "execution_count": 36,
     "metadata": {},
     "output_type": "execute_result"
    }
   ],
   "source": [
    "from sklearn.ensemble import RandomForestRegressor\n",
    "RF = RandomForestRegressor() \n",
    "RF.fit(X_train, Y_train)"
   ]
  },
  {
   "cell_type": "markdown",
   "id": "7b23521c",
   "metadata": {},
   "source": [
    "# Evaluation Metrics"
   ]
  },
  {
   "cell_type": "code",
   "execution_count": 37,
   "id": "d57ff57c",
   "metadata": {},
   "outputs": [
    {
     "data": {
      "text/plain": [
       "-0.008655218088830852"
      ]
     },
     "execution_count": 37,
     "metadata": {},
     "output_type": "execute_result"
    }
   ],
   "source": [
    "lr.score(X_test, Y_test)"
   ]
  },
  {
   "cell_type": "code",
   "execution_count": 38,
   "id": "959366a7",
   "metadata": {},
   "outputs": [
    {
     "data": {
      "text/plain": [
       "129116.16661022583"
      ]
     },
     "execution_count": 38,
     "metadata": {},
     "output_type": "execute_result"
    }
   ],
   "source": [
    "from sklearn.metrics import mean_squared_error\n",
    "np.sqrt(mean_squared_error(Y_test,lr.predict(X_test)))"
   ]
  },
  {
   "cell_type": "code",
   "execution_count": 45,
   "id": "cfc15d76",
   "metadata": {},
   "outputs": [
    {
     "name": "stderr",
     "output_type": "stream",
     "text": [
      "C:\\Users\\nivet\\anaconda3\\lib\\site-packages\\sklearn\\linear_model\\_base.py:141: FutureWarning: 'normalize' was deprecated in version 1.0 and will be removed in 1.2.\n",
      "If you wish to scale the data, use Pipeline with a StandardScaler in a preprocessing stage. To reproduce the previous behavior:\n",
      "\n",
      "from sklearn.pipeline import make_pipeline\n",
      "\n",
      "model = make_pipeline(StandardScaler(with_mean=False), Lasso())\n",
      "\n",
      "If you wish to pass a sample_weight parameter, you need to pass it as a fit parameter to each step of the pipeline as follows:\n",
      "\n",
      "kwargs = {s[0] + '__sample_weight': sample_weight for s in model.steps}\n",
      "model.fit(X, y, **kwargs)\n",
      "\n",
      "Set parameter alpha to: original_alpha * np.sqrt(n_samples). \n",
      "  warnings.warn(\n"
     ]
    },
    {
     "data": {
      "text/plain": [
       "Lasso(alpha=0.01, normalize=True)"
      ]
     },
     "execution_count": 45,
     "metadata": {},
     "output_type": "execute_result"
    }
   ],
   "source": [
    "from sklearn.linear_model import Lasso\n",
    "lasso = Lasso(alpha=0.01, normalize=True)\n",
    "lasso.fit(X_train, Y_train)"
   ]
  },
  {
   "cell_type": "code",
   "execution_count": 47,
   "id": "c5176749",
   "metadata": {},
   "outputs": [
    {
     "data": {
      "text/plain": [
       "-0.008649054828525848"
      ]
     },
     "execution_count": 47,
     "metadata": {},
     "output_type": "execute_result"
    }
   ],
   "source": [
    "# Lasso Regression\n",
    "lasso.score(X_test, Y_test)"
   ]
  },
  {
   "cell_type": "code",
   "execution_count": 46,
   "id": "c630851a",
   "metadata": {},
   "outputs": [
    {
     "data": {
      "text/plain": [
       "129115.77213560964"
      ]
     },
     "execution_count": 46,
     "metadata": {},
     "output_type": "execute_result"
    }
   ],
   "source": [
    "np.sqrt(mean_squared_error(Y_test,lasso.predict(X_test)))"
   ]
  },
  {
   "cell_type": "code",
   "execution_count": 49,
   "id": "c7e7de25",
   "metadata": {},
   "outputs": [
    {
     "name": "stderr",
     "output_type": "stream",
     "text": [
      "C:\\Users\\nivet\\anaconda3\\lib\\site-packages\\sklearn\\linear_model\\_base.py:141: FutureWarning: 'normalize' was deprecated in version 1.0 and will be removed in 1.2.\n",
      "If you wish to scale the data, use Pipeline with a StandardScaler in a preprocessing stage. To reproduce the previous behavior:\n",
      "\n",
      "from sklearn.pipeline import make_pipeline\n",
      "\n",
      "model = make_pipeline(StandardScaler(with_mean=False), Ridge())\n",
      "\n",
      "If you wish to pass a sample_weight parameter, you need to pass it as a fit parameter to each step of the pipeline as follows:\n",
      "\n",
      "kwargs = {s[0] + '__sample_weight': sample_weight for s in model.steps}\n",
      "model.fit(X, y, **kwargs)\n",
      "\n",
      "Set parameter alpha to: original_alpha * n_samples. \n",
      "  warnings.warn(\n"
     ]
    },
    {
     "data": {
      "text/plain": [
       "Ridge(alpha=0.01, normalize=True)"
      ]
     },
     "execution_count": 49,
     "metadata": {},
     "output_type": "execute_result"
    }
   ],
   "source": [
    "# Ridge Regression\n",
    "from sklearn.linear_model import Ridge\n",
    "ridge = Ridge(alpha=0.01, normalize=True)\n",
    "ridge.fit(X_train, Y_train)"
   ]
  },
  {
   "cell_type": "code",
   "execution_count": 50,
   "id": "f708f382",
   "metadata": {},
   "outputs": [
    {
     "data": {
      "text/plain": [
       "-0.00847819972366981"
      ]
     },
     "execution_count": 50,
     "metadata": {},
     "output_type": "execute_result"
    }
   ],
   "source": [
    "ridge.score(X_test, Y_test)"
   ]
  },
  {
   "cell_type": "code",
   "execution_count": 51,
   "id": "2d2b74a8",
   "metadata": {},
   "outputs": [
    {
     "data": {
      "text/plain": [
       "129104.83620950623"
      ]
     },
     "execution_count": 51,
     "metadata": {},
     "output_type": "execute_result"
    }
   ],
   "source": [
    "np.sqrt(mean_squared_error(Y_test,ridge.predict(X_test)))"
   ]
  },
  {
   "cell_type": "code",
   "execution_count": 52,
   "id": "ea0fd9f0",
   "metadata": {},
   "outputs": [
    {
     "data": {
      "text/plain": [
       "-8.47629267376855"
      ]
     },
     "execution_count": 52,
     "metadata": {},
     "output_type": "execute_result"
    }
   ],
   "source": [
    "# K Nearest Neighbour\n",
    "knn.score(X_test, Y_test)"
   ]
  },
  {
   "cell_type": "code",
   "execution_count": 53,
   "id": "a510e1c7",
   "metadata": {},
   "outputs": [
    {
     "data": {
      "text/plain": [
       "395756.8917815504"
      ]
     },
     "execution_count": 53,
     "metadata": {},
     "output_type": "execute_result"
    }
   ],
   "source": [
    "np.sqrt(mean_squared_error(Y_test,knn.predict(X_test)))"
   ]
  },
  {
   "cell_type": "code",
   "execution_count": 54,
   "id": "96de6a7f",
   "metadata": {},
   "outputs": [
    {
     "data": {
      "text/plain": [
       "-0.15725520517892333"
      ]
     },
     "execution_count": 54,
     "metadata": {},
     "output_type": "execute_result"
    }
   ],
   "source": [
    "# Decision Tree\n",
    "DT.score(X_test, Y_test)"
   ]
  },
  {
   "cell_type": "code",
   "execution_count": 55,
   "id": "e3581fd8",
   "metadata": {},
   "outputs": [
    {
     "data": {
      "text/plain": [
       "138300.52388391894"
      ]
     },
     "execution_count": 55,
     "metadata": {},
     "output_type": "execute_result"
    }
   ],
   "source": [
    "np.sqrt(mean_squared_error(Y_test,DT.predict(X_test)))"
   ]
  },
  {
   "cell_type": "code",
   "execution_count": 56,
   "id": "6419bb30",
   "metadata": {},
   "outputs": [
    {
     "data": {
      "text/plain": [
       "-3.5864281830025773"
      ]
     },
     "execution_count": 56,
     "metadata": {},
     "output_type": "execute_result"
    }
   ],
   "source": [
    "RF.score(X_test, Y_test)"
   ]
  },
  {
   "cell_type": "code",
   "execution_count": 57,
   "id": "8a1b926a",
   "metadata": {},
   "outputs": [],
   "source": [
    "import pickle\n",
    "pickle.dump(RF, open('Car Resale Value Prediction.pkl', 'wb'))"
   ]
  },
  {
   "cell_type": "code",
   "execution_count": 58,
   "id": "2a35a6bb",
   "metadata": {},
   "outputs": [],
   "source": [
    "from sklearn.ensemble import RandomForestRegressor\n"
   ]
  },
  {
   "cell_type": "code",
   "execution_count": 59,
   "id": "489ab7d1",
   "metadata": {},
   "outputs": [],
   "source": [
    "#importing necessary libraries to find evaluation of the model\n",
    "from sklearn.metrics import r2_score\n",
    "from sklearn.metrics import mean_squared_error\n",
    "import math"
   ]
  },
  {
   "cell_type": "code",
   "execution_count": 60,
   "id": "f0f4159b",
   "metadata": {},
   "outputs": [
    {
     "name": "stdout",
     "output_type": "stream",
     "text": [
      "MSE: 16522691504.017546\n"
     ]
    }
   ],
   "source": [
    "#mean squared error\n",
    "MSE=mean_squared_error(Y_test,Y_pred)\n",
    "print(\"MSE:\",MSE)"
   ]
  },
  {
   "cell_type": "code",
   "execution_count": 61,
   "id": "4b697461",
   "metadata": {},
   "outputs": [
    {
     "name": "stdout",
     "output_type": "stream",
     "text": [
      "RMSE: 128540.6219994969\n"
     ]
    }
   ],
   "source": [
    "#Root mean squared error\n",
    "RMSE=math.sqrt(MSE)\n",
    "print(\"RMSE:\",RMSE)"
   ]
  },
  {
   "cell_type": "code",
   "execution_count": 62,
   "id": "5a762651",
   "metadata": {},
   "outputs": [
    {
     "name": "stdout",
     "output_type": "stream",
     "text": [
      "R2_score: 0.0003170465263528932\n"
     ]
    }
   ],
   "source": [
    "#checking the performance of the model using r2_score \n",
    "r2=r2_score(Y_test,Y_pred)\n",
    "print(\"R2_score:\",r2)"
   ]
  },
  {
   "cell_type": "code",
   "execution_count": 63,
   "id": "8279c788",
   "metadata": {},
   "outputs": [
    {
     "name": "stdout",
     "output_type": "stream",
     "text": [
      "Adjusted R2: 0.00031714659153603275\n"
     ]
    }
   ],
   "source": [
    "#Adjusted R square\n",
    "Adjusted_R2=1-(1-r2*((X_test.shape[0]-1)/(X_test.shape[0]-X_test.shape[1]-1)))\n",
    "print(\"Adjusted R2:\",Adjusted_R2)"
   ]
  },
  {
   "cell_type": "code",
   "execution_count": 64,
   "id": "09086293",
   "metadata": {},
   "outputs": [
    {
     "data": {
      "image/png": "[encoded data removed]",
      "text/plain": [
       "<Figure size 1000x500 with 1 Axes>"
      ]
     },
     "metadata": {},
     "output_type": "display_data"
    }
   ],
   "source": [
    "#plot for predicted and actual price \n",
    "plt.figure(figsize=(10,5))\n",
    "plt.plot(Y_pred[0:20])\n",
    "plt.plot(np.array(Y_test[0:20]))\n",
    "plt.legend([\"predicted\",\"actual\"])\n",
    "plt.show()"
   ]
  },
  {
   "cell_type": "code",
   "execution_count": 65,
   "id": "75db7d66",
   "metadata": {},
   "outputs": [
    {
     "name": "stdout",
     "output_type": "stream",
     "text": [
      "The accuracy of the RandomForestRegression: 0.0003170465263528932\n"
     ]
    }
   ],
   "source": [
    "print(\"The accuracy of the RandomForestRegression:\",r2)"
   ]
  }
 ],
 "metadata": {
  "kernelspec": {
   "display_name": "Python 3 (ipykernel)",
   "language": "python",
   "name": "python3"
  },
  "language_info": {
   "codemirror_mode": {
    "name": "ipython",
    "version": 3
   },
   "file_extension": ".py",
   "mimetype": "text/x-python",
   "name": "python",
   "nbconvert_exporter": "python",
   "pygments_lexer": "ipython3",
   "version": "3.9.13"
  }
 },
 "nbformat": 4,
 "nbformat_minor": 5
}
